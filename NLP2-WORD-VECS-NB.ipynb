{
 "cells": [
  {
   "cell_type": "markdown",
   "metadata": {},
   "source": [
    "# <a name=\"0\">Machine Learning Accelerator - Natural Language Processing - Lecture 2</a>\n",
    "\n",
    "## GloVe Word Vectors\n",
    "Word vectors refers to a family of related techniques, first gaining popularity via ```Word2Vec``` which associates an $n$-dimensional (normally $n$ is in the range of $50$ to $500$.  For us it will be $50$) vector to every word in the target language.\n",
    "\n",
    "We will go over these:\n",
    "1. <a href=\"#1\">Load Glove Word Vectors</a>\n",
    "2. <a href=\"#2\">Visualization (PCA)</a>\n",
    "3. <a href=\"#3\">Cosine Similarity</a>"
   ]
  },
  {
   "cell_type": "markdown",
   "metadata": {},
   "source": [
    "Let's first install the latest versions of the libraries."
   ]
  },
  {
   "cell_type": "code",
   "execution_count": 1,
   "metadata": {},
   "outputs": [
    {
     "name": "stdout",
     "output_type": "stream",
     "text": [
      "\u001b[31mERROR: Could not install packages due to an OSError: [Errno 2] No such file or directory: '/home/ec2-user/anaconda3/envs/pytorch_p36/lib/python3.6/site-packages/six-1.16.0.dist-info/METADATA'\n",
      "\u001b[0m\n",
      "\u001b[33mWARNING: You are using pip version 21.2.4; however, version 21.3.1 is available.\n",
      "You should consider upgrading via the '/home/ec2-user/anaconda3/envs/pytorch_p36/bin/python -m pip install --upgrade pip' command.\u001b[0m\n"
     ]
    }
   ],
   "source": [
    "# Upgrade dependencies\n",
    "!pip install -q -r ../../requirements.txt"
   ]
  },
  {
   "cell_type": "code",
   "execution_count": 2,
   "metadata": {},
   "outputs": [],
   "source": [
    "from torchtext.vocab import GloVe\n",
    "from sklearn.decomposition import PCA\n",
    "from sklearn.metrics.pairwise import cosine_similarity\n",
    "\n",
    "%matplotlib inline\n",
    "import matplotlib.pyplot as plt"
   ]
  },
  {
   "cell_type": "markdown",
   "metadata": {},
   "source": [
    "## 1. <a name=\"1\">Load Glove Word Vectors</a>\n",
    "(<a href=\"#0\">Go to top</a>)\n",
    "\n",
    "We talked about __Word2Vec__ and __FastText__ as word embedding techniques. In this exercise we will use a set of pre-trained word embeddings. These are embeddings that someone else took the time and computational power to train. Another existing pre-trained word embeddings are the __GloVe__ embeddings. GloVe is a variation of a Word2Vec model. More information can be found here --> https://nlp.stanford.edu/projects/glove/\n",
    "\n",
    "In this exercise, we will discover relationships between word vectors using the GloVe embeddings. "
   ]
  },
  {
   "cell_type": "markdown",
   "metadata": {},
   "source": [
    "We can easily import GloVe embeddings from the torchtext library. Here, we get vectors with $50$ dimensions. \n",
    "\n",
    "The `name` parameter refers to the particular pre-trained model that should be loaded: \n",
    "\n",
    "* Wikipedia 2014 + Gigaword 5 (6B tokens, 400K vocab, uncased, 50d, 100d, 200d, & 300d vectors, 822 MB download): `\"6B\"`. This is the model that we will load here.\n",
    "* Common Crawl (42B tokens, 1.9M vocab, uncased, 300d vectors, 1.75 GB download): `\"42B\"`\n",
    "* Common Crawl (840B tokens, 2.2M vocab, cased, 300d vectors, 2.03 GB download): `\"840B\"`\n",
    "* Etc (see documentation in Stanford link above)"
   ]
  },
  {
   "cell_type": "code",
   "execution_count": 3,
   "metadata": {},
   "outputs": [],
   "source": [
    "# Load the model. You can change dim to 50, 100, 300\n",
    "glove = GloVe(name=\"6B\", dim=50)"
   ]
  },
  {
   "cell_type": "markdown",
   "metadata": {},
   "source": [
    "Let's see some examples"
   ]
  },
  {
   "cell_type": "code",
   "execution_count": 4,
   "metadata": {},
   "outputs": [
    {
     "name": "stdout",
     "output_type": "stream",
     "text": [
      "cat -> tensor([ 0.4528, -0.5011, -0.5371, -0.0157,  0.2219,  0.5460, -0.6730, -0.6891,\n",
      "         0.6349, -0.1973,  0.3368,  0.7735,  0.9009,  0.3849,  0.3837,  0.2657,\n",
      "        -0.0806,  0.6109, -1.2894, -0.2231, -0.6158,  0.2170,  0.3561,  0.4450,\n",
      "         0.6089, -1.1633, -1.1579,  0.3612,  0.1047, -0.7832,  1.4352,  0.1863,\n",
      "        -0.2611,  0.8328, -0.2312,  0.3248,  0.1449, -0.4455,  0.3350, -0.9595,\n",
      "        -0.0975,  0.4814, -0.4335,  0.6945,  0.9104, -0.2817,  0.4164, -1.2609,\n",
      "         0.7128,  0.2378])\n",
      "\n",
      "computer -> tensor([ 0.0791, -0.8150,  1.7901,  0.9165,  0.1080, -0.5563, -0.8443, -1.4951,\n",
      "         0.1342,  0.6363,  0.3515,  0.2581, -0.5503,  0.5106,  0.3741,  0.1209,\n",
      "        -1.6166,  0.8365,  0.1420, -0.5235,  0.7345,  0.1221, -0.4908,  0.3253,\n",
      "         0.4531, -1.5850, -0.6385, -1.0053,  0.1045, -0.4298,  3.1810, -0.6219,\n",
      "         0.1682, -1.0139,  0.0641,  0.5784, -0.4556,  0.7378,  0.3720, -0.5772,\n",
      "         0.6644,  0.0551,  0.0379,  1.3275,  0.3099,  0.5070,  1.2357,  0.1274,\n",
      "        -0.1143,  0.2071])\n",
      "\n",
      "human -> tensor([ 0.6185,  0.1191, -0.4679,  0.3137,  1.0334,  0.9596,  0.8780, -1.0346,\n",
      "         1.6322,  0.2935,  0.8084, -0.0589,  0.0213,  0.4099,  0.5444, -0.3331,\n",
      "         0.5371, -0.3582,  0.2937,  0.0902, -0.9205,  0.6939,  0.3910, -0.6439,\n",
      "         0.7783, -1.7215, -0.4839, -0.5033, -0.2251,  0.0992,  3.2095, -0.3155,\n",
      "        -0.7175, -1.6752, -1.3537,  0.1520,  0.0546, -0.1633, -0.0280,  0.3917,\n",
      "        -0.5501, -0.0792,  0.6339,  0.5145,  0.7012,  0.2764, -0.5344,  0.0648,\n",
      "        -0.2197, -0.5205])\n"
     ]
    }
   ],
   "source": [
    "print(f\"cat -> {glove['cat']}\\n\")\n",
    "print(f\"computer -> {glove['computer']}\\n\")\n",
    "print(f\"human -> {glove['human']}\")"
   ]
  },
  {
   "cell_type": "markdown",
   "metadata": {},
   "source": [
    "## 2. <a name=\"2\">Visualization (PCA)</a>\n",
    "(<a href=\"#0\">Go to top</a>)\n",
    "\n",
    "Let's visualize a collection of vectors by projecting it onto the best possible pair of directions.  We will use [sklearn](http://scikit-learn.org/stable/modules/generated/sklearn.decomposition.PCA.html) to do this. At the end, this will produce 2D vectors (instead of the original shape of 50D)"
   ]
  },
  {
   "cell_type": "code",
   "execution_count": 5,
   "metadata": {},
   "outputs": [
    {
     "data": {
      "image/png": "[encoded data removed]",
      "text/plain": [
       "<Figure size 360x360 with 1 Axes>"
      ]
     },
     "metadata": {
      "needs_background": "light"
     },
     "output_type": "display_data"
    },
    {
     "data": {
      "image/png": "[encoded data removed]",
      "text/plain": [
       "<Figure size 360x360 with 1 Axes>"
      ]
     },
     "metadata": {
      "needs_background": "light"
     },
     "output_type": "display_data"
    }
   ],
   "source": [
    "def pcaPlot(word_list):\n",
    "    # fetch list of word vectors\n",
    "    vecs = [glove[x].numpy() for x in word_list]\n",
    "\n",
    "    # reduce dimensions\n",
    "    model = PCA(n_components=2)\n",
    "    reduced = model.fit_transform(vecs)\n",
    "    xc = [v[0] for v in reduced]\n",
    "    yc = [v[1] for v in reduced]\n",
    "\n",
    "    # plot them\n",
    "    plt.figure(figsize=(5, 5))\n",
    "    plt.scatter(xc, yc)\n",
    "\n",
    "    # label the plot\n",
    "    for i, word in enumerate(word_list):\n",
    "        plt.annotate(word, xy=(xc[i] + 0.03, yc[i] + 0.03), fontsize=12)\n",
    "    plt.show()\n",
    "\n",
    "\n",
    "pcaPlot([\"fast\", \"faster\", \"fastest\", \"slow\", \"slower\", \"slowest\"])\n",
    "pcaPlot(\n",
    "    [\n",
    "        \"bird\",\n",
    "        \"cat\",\n",
    "        \"squirrel\",\n",
    "        \"dog\",\n",
    "        \"fish\",\n",
    "        \"helicopter\",\n",
    "        \"airplane\",\n",
    "        \"car\",\n",
    "        \"submarine\",\n",
    "        \"whale\",\n",
    "        \"winter\",\n",
    "        \"summer\",\n",
    "    ]\n",
    ")"
   ]
  },
  {
   "cell_type": "markdown",
   "metadata": {},
   "source": [
    "## 3. <a name=\"3\">Cosine Similarity</a>\n",
    "(<a href=\"#0\">Go to top</a>)\n",
    "\n",
    "We talked about cosine similarity in the class. Let's see an example here. We use the [cosine_similarity()](https://scikit-learn.org/stable/modules/generated/sklearn.metrics.pairwise.cosine_similarity.html) function from sklearn to easily calculate cosine similarity between word vectors."
   ]
  },
  {
   "cell_type": "code",
   "execution_count": 6,
   "metadata": {},
   "outputs": [],
   "source": [
    "# define the similarity between two words\n",
    "def similarity(w1, w2):\n",
    "    return cosine_similarity([glove[w1].tolist()], [glove[w2].tolist()])\n",
    "\n",
    "\n",
    "# Say if w1 is closer to w2 than w3\n",
    "def simCompare(w1, w2, w3):\n",
    "    s1 = similarity(w1, w2)\n",
    "    s2 = similarity(w1, w3)\n",
    "    if s1 > s2:\n",
    "        print(f\"'{w1}'\\tis closer to\\t'{w2}'\\tthan\\t'{w3}'\\n\")\n",
    "    else:\n",
    "        print(f\"'{w1}'\\tis closer to\\t'{w3}'\\tthan\\t'{w2}'\\n\")"
   ]
  },
  {
   "cell_type": "code",
   "execution_count": 7,
   "metadata": {},
   "outputs": [
    {
     "name": "stdout",
     "output_type": "stream",
     "text": [
      "'actor'\tis closer to\t'film'\tthan\t'pen'\n",
      "\n",
      "'car'\tis closer to\t'truck'\tthan\t'bike'\n",
      "\n",
      "'cat'\tis closer to\t'dog'\tthan\t'sea'\n",
      "\n"
     ]
    }
   ],
   "source": [
    "simCompare(\"actor\", \"pen\", \"film\")\n",
    "simCompare(\"car\", \"truck\", \"bike\")\n",
    "simCompare(\"cat\", \"dog\", \"sea\")"
   ]
  }
 ],
 "metadata": {
  "kernelspec": {
   "display_name": "conda_pytorch_p36",
   "language": "python",
   "name": "conda_pytorch_p36"
  },
  "language_info": {
   "codemirror_mode": {
    "name": "ipython",
    "version": 3
   },
   "file_extension": ".py",
   "mimetype": "text/x-python",
   "name": "python",
   "nbconvert_exporter": "python",
   "pygments_lexer": "ipython3",
   "version": "3.6.13"
  }
 },
 "nbformat": 4,
 "nbformat_minor": 4
}
